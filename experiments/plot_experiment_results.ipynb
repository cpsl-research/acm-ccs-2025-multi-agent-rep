{
 "cells": [
  {
   "cell_type": "code",
   "execution_count": null,
   "metadata": {},
   "outputs": [],
   "source": [
    "import os\n",
    "import pickle\n",
    "import pandas as pd\n",
    "import seaborn as sns\n",
    "import matplotlib.pyplot as plt\n",
    "\n",
    "\n",
    "# set mpl font sizing\n",
    "SMALL_SIZE = 14\n",
    "MEDIUM_SIZE = 18\n",
    "BIGGER_SIZE = 22\n",
    "\n",
    "plt.rc(\"font\", size=BIGGER_SIZE)  # controls default text sizes\n",
    "plt.rc(\"axes\", titlesize=MEDIUM_SIZE)  # fontsize of the axes title\n",
    "plt.rc(\"axes\", labelsize=BIGGER_SIZE)  # fontsize of the x and y labels\n",
    "plt.rc(\"xtick\", labelsize=MEDIUM_SIZE)  # fontsize of the tick labels\n",
    "plt.rc(\"ytick\", labelsize=MEDIUM_SIZE)  # fontsize of the tick labels\n",
    "plt.rc(\"legend\", fontsize=SMALL_SIZE)  # legend fontsize\n",
    "plt.rc(\"figure\", titlesize=BIGGER_SIZE)  # fontsize of the figure title\n",
    "plt.rcParams[\"font.family\"] = \"serif\"\n",
    "font_family = \"serif\"\n",
    "\n",
    "# set seaborn styling\n",
    "sns.set_style(\"whitegrid\")\n",
    "n_colors = 9\n",
    "cms_color = {\n",
    "    color: sns.color_palette(color, n_colors)\n",
    "    for color in [\"Blues\", \"Greens\", \"Reds\", \"Oranges\", \"Purples\", \"Greys\"]\n",
    "}\n",
    "\n",
    "# set up figure directory\n",
    "exp_dir = \"outputs\"\n",
    "fig_dir = \"figures/runs\"\n",
    "os.makedirs(fig_dir, exist_ok=True)\n",
    "\n",
    "# flags\n",
    "MAKE_DIAG_PLOTS = False"
   ]
  },
  {
   "cell_type": "code",
   "execution_count": null,
   "metadata": {},
   "outputs": [],
   "source": [
    "from plotting import (\n",
    "    make_plot_for_case_assignment,\n",
    "    make_plot_for_case_trust_metric,\n",
    "    plot_last_trust_distributions,\n",
    "    make_assignment_metric_meta_plot,\n",
    "    make_trust_metric_meta_plot,\n",
    ")"
   ]
  },
  {
   "cell_type": "markdown",
   "metadata": {},
   "source": [
    "## Experiment 0: Verification of adversary"
   ]
  },
  {
   "cell_type": "code",
   "execution_count": null,
   "metadata": {},
   "outputs": [],
   "source": [
    "# load in data\n",
    "exp_0_dir = os.path.join(exp_dir, \"experiment_0\")\n",
    "with open(os.path.join(exp_0_dir, \"metrics.p\"), \"rb\") as f:\n",
    "    all_metrics_exp_0 = pickle.load(f)\n",
    "with open(os.path.join(exp_0_dir, \"diag.p\"), \"rb\") as f:\n",
    "    all_diag_exp_0 = pickle.load(f)"
   ]
  },
  {
   "cell_type": "code",
   "execution_count": null,
   "metadata": {},
   "outputs": [],
   "source": [
    "# make plots\n",
    "# plot_last_trust_distributions(\n",
    "#     all_diag_exp_0, fig_title=\"trust_distributions_case_0\", fig_dir=fig_dir\n",
    "# )\n",
    "make_plot_for_case_assignment(\n",
    "    all_metrics_exp_0, fig_title=\"assign_metrics_case_0\", fig_dir=fig_dir\n",
    ")\n",
    "make_plot_for_case_trust_metric(\n",
    "    all_metrics_exp_0,\n",
    "    fig_title=\"trust_metrics_case_0\",\n",
    "    fig_dir=fig_dir,\n",
    ")"
   ]
  },
  {
   "cell_type": "markdown",
   "metadata": {},
   "source": [
    "## Experiment 1: Density of agents on benign data\n",
    "\n",
    "This experiment takes a while to run. You can modify the number of scenes, number of agents, and number of trials to accelerate it."
   ]
  },
  {
   "cell_type": "code",
   "execution_count": null,
   "metadata": {},
   "outputs": [],
   "source": [
    "# load in data\n",
    "exp_1_dir = os.path.join(exp_dir, \"experiment_1\")\n",
    "with open(os.path.join(exp_1_dir, \"metrics.p\"), \"rb\") as f:\n",
    "    all_metrics_exp_1 = pickle.load(f)"
   ]
  },
  {
   "cell_type": "code",
   "execution_count": null,
   "metadata": {},
   "outputs": [],
   "source": [
    "make_trust_metric_meta_plot(\n",
    "    all_meta_metrics=all_metrics_exp_1,\n",
    "    x_axis_var=\"n_agents\",\n",
    "    x_axis_label=\"Active Agents\",\n",
    "    fig_title=\"trust_metrics_by_capability\",\n",
    "    fig_dir=fig_dir,\n",
    ")\n",
    "\n",
    "make_assignment_metric_meta_plot(\n",
    "    all_meta_metrics=all_metrics_exp_1,\n",
    "    x_axis_var=\"n_agents\",\n",
    "    x_axis_label=\"Active Agents\",\n",
    "    fig_title=\"assign_metrics_by_capability\",\n",
    "    fig_dir=fig_dir,\n",
    ")"
   ]
  },
  {
   "cell_type": "markdown",
   "metadata": {},
   "source": [
    "## Experiment 2: Density of agents on attack data\n",
    "\n",
    "This experiment takes a while to run. You can modify the number of scenes, number of agents, and number of trials to accelerate it."
   ]
  },
  {
   "cell_type": "code",
   "execution_count": null,
   "metadata": {},
   "outputs": [],
   "source": [
    "# load in data\n",
    "exp_2_dir = os.path.join(exp_dir, \"experiment_2\")\n",
    "with open(os.path.join(exp_2_dir, \"metrics.p\"), \"rb\") as f:\n",
    "    all_metrics_exp_2 = pickle.load(f)"
   ]
  },
  {
   "cell_type": "code",
   "execution_count": null,
   "metadata": {},
   "outputs": [],
   "source": [
    "make_trust_metric_meta_plot(\n",
    "    all_meta_metrics=all_metrics_exp_2,\n",
    "    x_axis_var=\"n_agents\",\n",
    "    x_axis_label=\"Active Agents\",\n",
    "    fig_title=\"trust_metrics_by_capability\",\n",
    "    fig_dir=fig_dir,\n",
    ")\n",
    "\n",
    "make_assignment_metric_meta_plot(\n",
    "    all_meta_metrics=all_metrics_exp_2,\n",
    "    x_axis_var=\"n_agents\",\n",
    "    x_axis_label=\"Active Agents\",\n",
    "    fig_title=\"assign_metrics_by_capability\",\n",
    "    fig_dir=fig_dir,\n",
    ")"
   ]
  },
  {
   "cell_type": "markdown",
   "metadata": {},
   "source": [
    "## Experiment 3: Attacker capability vs performance\n",
    "\n",
    "This experiment takes a while to run. You can modify the number of scenes, number of agents, and number of trials to accelerate it."
   ]
  },
  {
   "cell_type": "code",
   "execution_count": null,
   "metadata": {},
   "outputs": [],
   "source": [
    "# load in data\n",
    "exp_3_dir = os.path.join(exp_dir, \"experiment_3\")\n",
    "with open(os.path.join(exp_1_dir, \"metrics.p\"), \"rb\") as f:\n",
    "    all_metrics_exp_3 = pickle.load(f)"
   ]
  },
  {
   "cell_type": "code",
   "execution_count": null,
   "metadata": {},
   "outputs": [],
   "source": [
    "make_trust_metric_meta_plot(\n",
    "    all_meta_metrics=all_metrics_exp_3,\n",
    "    x_axis_var=\"pct_fp_attacked\",\n",
    "    x_axis_label=\"Percent of Agents Attacked\",\n",
    "    fig_title=\"trust_metrics_by_capability\",\n",
    "    fig_dir=fig_dir,\n",
    ")\n",
    "\n",
    "make_assignment_metric_meta_plot(\n",
    "    all_meta_metrics=all_metrics_exp_3,\n",
    "    x_axis_var=\"pct_fp_attacked\",\n",
    "    x_axis_label=\"Percent of Agents Attacked\",\n",
    "    fig_title=\"assign_metrics_by_capability\",\n",
    "    fig_dir=fig_dir,\n",
    ")"
   ]
  },
  {
   "cell_type": "markdown",
   "metadata": {},
   "source": [
    "## Experiment 4: Evaluating the effect of prior information"
   ]
  },
  {
   "cell_type": "code",
   "execution_count": null,
   "metadata": {},
   "outputs": [],
   "source": [
    "# load in data\n",
    "exp_4_dir = os.path.join(exp_dir, \"experiment_4\")\n",
    "with open(os.path.join(exp_4_dir, \"metrics.p\"), \"rb\") as f:\n",
    "    all_metrics_exp_4 = pickle.load(f)\n",
    "with open(os.path.join(exp_4_dir, \"diag.p\"), \"rb\") as f:\n",
    "    all_diag_exp_4 = pickle.load(f)"
   ]
  },
  {
   "cell_type": "code",
   "execution_count": null,
   "metadata": {},
   "outputs": [],
   "source": [
    "from avtrust.plotting import get_quad_trust_axes, plot_trust_on_quad\n",
    "\n",
    "\n",
    "for k, v in all_diag_exp_4.items():\n",
    "    print(k)\n",
    "    df_diag = pd.DataFrame(v)\n",
    "    df_trust_last_frame = df_diag.loc[df_diag[\"frame\"] == df_diag[\"frame\"].max()][\n",
    "        [\"agent\", \"trust-agents\", \"trust-tracks\"]\n",
    "    ]\n",
    "    for idx_agent, trust_agents, trust_tracks in df_trust_last_frame.itertuples(\n",
    "        index=False\n",
    "    ):\n",
    "        axs = get_quad_trust_axes(font_family=font_family)\n",
    "        plot_trust_on_quad(\n",
    "            axs=axs,\n",
    "            trust_agents=trust_agents,\n",
    "            trust_tracks=trust_tracks,\n",
    "            font_family=font_family,\n",
    "        )"
   ]
  }
 ],
 "metadata": {
  "kernelspec": {
   "display_name": "iccps-rep-JQZZRgLQ-py3.10",
   "language": "python",
   "name": "python3"
  },
  "language_info": {
   "codemirror_mode": {
    "name": "ipython",
    "version": 3
   },
   "file_extension": ".py",
   "mimetype": "text/x-python",
   "name": "python",
   "nbconvert_exporter": "python",
   "pygments_lexer": "ipython3",
   "version": "3.10.12"
  }
 },
 "nbformat": 4,
 "nbformat_minor": 2
}
